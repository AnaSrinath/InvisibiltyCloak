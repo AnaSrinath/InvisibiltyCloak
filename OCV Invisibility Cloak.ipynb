{
 "cells": [
  {
   "cell_type": "markdown",
   "metadata": {},
   "source": [
    "## Implementing the Cloak of Invisibility through Python\n",
    "\n",
    "Workflow:\n",
    "\n",
    "+ Capture and store the background frame.\n",
    "+ Detect the red colored cloth using color detection algorithm.\n",
    "+ Segment out the red colored cloth by generating a mask.\n",
    "+ Generate the final augmented output to create the magical effect."
   ]
  },
  {
   "cell_type": "code",
   "execution_count": 1,
   "metadata": {},
   "outputs": [],
   "source": [
    "import imutils\n",
    "import cv2\n",
    "import numpy as np\n",
    "import time\n",
    "\n",
    "redLower = (0, 84, 168)      ## (lowerH,lowerS,lowerV)\n",
    "redUpper = (44, 255, 201)     ## (upperH,upperS,upperV)   \n",
    "## these values are obtained through color caliberation\n",
    "\n",
    "camera=cv2.VideoCapture(0)\n",
    "\n",
    "time.sleep(3)\n",
    "background = 0\n",
    "\n",
    "#Capturing the background in range of 60\n",
    "for i in range(60):\n",
    "    _,background = camera.read()\n",
    "background = np.flip(background,axis=1)\n",
    "\n",
    "while True:\n",
    "\n",
    "        _,frame = camera.read()\n",
    "        frame = np.flip(frame,axis=1)\n",
    "\n",
    "        hsv = cv2.cvtColor(frame, cv2.COLOR_BGR2HSV)\n",
    "        ## pre-processing\n",
    "        \n",
    "        mask1 = cv2.inRange(hsv, redLower, redUpper)\n",
    "        ## highlighting just the colored object\n",
    "        \n",
    "        mask1 = cv2.morphologyEx(mask1, cv2.MORPH_OPEN, np.ones((3,3),np.uint8),iterations=2)\n",
    "        mask1 = cv2.dilate(mask1,np.ones((3,3),np.uint8),iterations = 1)\n",
    "        mask1 = cv2.erode(mask1,np.ones((3,3),np.uint8),iterations = 1)\n",
    "        mask2 = cv2.bitwise_not(mask1)\n",
    "        ## Refining the mask corresponding to the detected red color\n",
    "        \n",
    "        res2 = cv2.bitwise_and(background,background,mask=mask1)\n",
    "        res1 = cv2.bitwise_and(frame,frame,mask=mask2)\n",
    "        end_frame = cv2.addWeighted(res1,1,res2,1,0)\n",
    "        ## Generating the final output'''\n",
    "        \n",
    "        cv2.imshow(\"Harry Potter's Invisibility Cloak\",end_frame)\n",
    "        k = cv2.waitKey(10)\n",
    "        if k == 27:\n",
    "            break\n",
    "            \n",
    "camera.release()\n",
    "cv2.destroyAllWindows()"
   ]
  },
  {
   "cell_type": "code",
   "execution_count": null,
   "metadata": {},
   "outputs": [],
   "source": []
  }
 ],
 "metadata": {
  "kernelspec": {
   "display_name": "Python 3",
   "language": "python",
   "name": "python3"
  },
  "language_info": {
   "codemirror_mode": {
    "name": "ipython",
    "version": 3
   },
   "file_extension": ".py",
   "mimetype": "text/x-python",
   "name": "python",
   "nbconvert_exporter": "python",
   "pygments_lexer": "ipython3",
   "version": "3.7.6"
  }
 },
 "nbformat": 4,
 "nbformat_minor": 4
}
